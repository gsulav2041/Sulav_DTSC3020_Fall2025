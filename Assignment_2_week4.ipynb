{
  "nbformat": 4,
  "nbformat_minor": 0,
  "metadata": {
    "colab": {
      "provenance": [],
      "authorship_tag": "ABX9TyPu81Okw6YpHVVZdqXKTQoM",
      "include_colab_link": true
    },
    "kernelspec": {
      "name": "python3",
      "display_name": "Python 3"
    },
    "language_info": {
      "name": "python"
    }
  },
  "cells": [
    {
      "cell_type": "markdown",
      "metadata": {
        "id": "view-in-github",
        "colab_type": "text"
      },
      "source": [
        "<a href=\"https://colab.research.google.com/github/gsulav2041/Sulav_DTSC3020_Fall2025/blob/main/Assignment_2_week4.ipynb\" target=\"_parent\"><img src=\"https://colab.research.google.com/assets/colab-badge.svg\" alt=\"Open In Colab\"/></a>"
      ]
    },
    {
      "cell_type": "code",
      "execution_count": 29,
      "metadata": {
        "id": "_2GhqG69fvA9",
        "colab": {
          "base_uri": "https://localhost:8080/"
        },
        "outputId": "5ff68b95-06d5-4433-9daf-8aaee4564643"
      },
      "outputs": [
        {
          "output_type": "stream",
          "name": "stdout",
          "text": [
            "['Cherry', 'Mango', 'Orange']\n",
            "Cherry\n",
            "Mango\n",
            "Orange\n"
          ]
        }
      ],
      "source": [
        "fruits = [\"Cherry\" , \"Mango\" , \"Orange\"]\n",
        "print(fruits)\n",
        "for fruit in fruits:\n",
        "    print(fruit)\n"
      ]
    },
    {
      "cell_type": "code",
      "source": [
        "name = [\"Harry\", \"Sam\", \"Eliza\", \"Patrick\" ]\n",
        "print(name)\n",
        "name[0] = \"Peter\"\n",
        "print(name)"
      ],
      "metadata": {
        "colab": {
          "base_uri": "https://localhost:8080/"
        },
        "id": "6SHK5R8fIehs",
        "outputId": "7e12061b-4a9d-4c1b-8bac-27716c476772"
      },
      "execution_count": 22,
      "outputs": [
        {
          "output_type": "stream",
          "name": "stdout",
          "text": [
            "['Harry', 'Sam', 'Eliza', 'Patrick']\n",
            "['Peter', 'Sam', 'Eliza', 'Patrick']\n"
          ]
        }
      ]
    },
    {
      "cell_type": "code",
      "source": [
        "vehicles = [\"Bus\", \"Bike\", \"Truck\", \"Car\", \"Boat\"]\n",
        "print(vehicles)\n",
        "vehicles.append (\"Scooter\")\n",
        "print(vehicles)"
      ],
      "metadata": {
        "colab": {
          "base_uri": "https://localhost:8080/"
        },
        "id": "JlUilU8jN4av",
        "outputId": "03ca39cc-0a5a-458c-f827-080e23d0da11"
      },
      "execution_count": 26,
      "outputs": [
        {
          "output_type": "stream",
          "name": "stdout",
          "text": [
            "['Bus', 'Bike', 'Truck', 'Car', 'Boat']\n",
            "['Bus', 'Bike', 'Truck', 'Car', 'Boat', 'Scooter']\n"
          ]
        }
      ]
    },
    {
      "cell_type": "code",
      "source": [
        "food = [\"Pizza\", \"Sandwich\", \"Pasta\", \"Fries\", \"Burger\", \"Curry\"]\n",
        "food.remove (\"Fries\")\n",
        "print(food)"
      ],
      "metadata": {
        "colab": {
          "base_uri": "https://localhost:8080/"
        },
        "id": "bNMyqBTDOyVR",
        "outputId": "bb3e0603-3916-4f59-f5fd-d5a9d01a9332"
      },
      "execution_count": 27,
      "outputs": [
        {
          "output_type": "stream",
          "name": "stdout",
          "text": [
            "['Pizza', 'Sandwich', 'Pasta', 'Burger', 'Curry']\n"
          ]
        }
      ]
    },
    {
      "cell_type": "code",
      "source": [
        "cities = [\"Dallas\", \"Kathmandu\", \"Austin\", \"New York\"]\n",
        "cities.sort()\n",
        "print(cities)\n",
        "cities.reverse()\n",
        "print(cities)"
      ],
      "metadata": {
        "colab": {
          "base_uri": "https://localhost:8080/"
        },
        "id": "B-Skw8kzO_s9",
        "outputId": "047e5623-5d05-497e-9270-ba56224978c1"
      },
      "execution_count": 31,
      "outputs": [
        {
          "output_type": "stream",
          "name": "stdout",
          "text": [
            "['Austin', 'Dallas', 'Kathmandu', 'New York']\n",
            "['New York', 'Kathmandu', 'Dallas', 'Austin']\n"
          ]
        }
      ]
    },
    {
      "cell_type": "code",
      "source": [
        "animals = [\"Dog\", \"Cat\", \"Bear\"]\n",
        "for animal in animals:\n",
        "    print(animal)"
      ],
      "metadata": {
        "colab": {
          "base_uri": "https://localhost:8080/"
        },
        "id": "z_BGrZfGRsDb",
        "outputId": "6c40e142-5b07-44a5-e446-4ac0c56fa4d7"
      },
      "execution_count": 32,
      "outputs": [
        {
          "output_type": "stream",
          "name": "stdout",
          "text": [
            "Dog\n",
            "Cat\n",
            "Bear\n"
          ]
        }
      ]
    },
    {
      "cell_type": "code",
      "source": [
        "numbers = [1, 2, 3, 4, 5]\n",
        "print(numbers)\n",
        "for number in numbers:\n",
        "    print(number*2)"
      ],
      "metadata": {
        "colab": {
          "base_uri": "https://localhost:8080/"
        },
        "id": "TEEREhKWR-m8",
        "outputId": "de8031a4-0929-4748-8c8e-d50f5b91c6b7"
      },
      "execution_count": 34,
      "outputs": [
        {
          "output_type": "stream",
          "name": "stdout",
          "text": [
            "[1, 2, 3, 4, 5]\n",
            "2\n",
            "4\n",
            "6\n",
            "8\n",
            "10\n"
          ]
        }
      ]
    },
    {
      "cell_type": "code",
      "source": [
        "name = [\"Harry\", \"Sam\", \"Eliza\", \"Patrick\", \"David\", \"Charlie\" ]\n",
        "print (name[0:3])\n",
        "print (name[3:6])"
      ],
      "metadata": {
        "colab": {
          "base_uri": "https://localhost:8080/"
        },
        "id": "WlP-TiZOVn69",
        "outputId": "837abaa0-6850-41bc-9ea1-27dc73b71e95"
      },
      "execution_count": 38,
      "outputs": [
        {
          "output_type": "stream",
          "name": "stdout",
          "text": [
            "['Harry', 'Sam', 'Eliza']\n",
            "['Patrick', 'David', 'Charlie']\n"
          ]
        }
      ]
    },
    {
      "cell_type": "code",
      "source": [
        "numbers = list(range(1,11))\n",
        "print(numbers)\n"
      ],
      "metadata": {
        "colab": {
          "base_uri": "https://localhost:8080/"
        },
        "id": "sANV3iZgWNxV",
        "outputId": "bd4172b9-f048-449e-f451-b09c6374a092"
      },
      "execution_count": 48,
      "outputs": [
        {
          "output_type": "stream",
          "name": "stdout",
          "text": [
            "[1, 2, 3, 4, 5, 6, 7, 8, 9, 10]\n"
          ]
        }
      ]
    },
    {
      "cell_type": "code",
      "source": [
        "squares = [value**2 for value in range(1, 6)]\n",
        "print(squares)"
      ],
      "metadata": {
        "colab": {
          "base_uri": "https://localhost:8080/"
        },
        "id": "2wNbUtiDX3vh",
        "outputId": "29498cfb-59e7-4433-96fd-8defd84525fa"
      },
      "execution_count": 49,
      "outputs": [
        {
          "output_type": "stream",
          "name": "stdout",
          "text": [
            "[1, 4, 9, 16, 25]\n"
          ]
        }
      ]
    }
  ]
}